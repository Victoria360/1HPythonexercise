{
 "cells": [
  {
   "cell_type": "code",
   "execution_count": 24,
   "metadata": {
    "scrolled": true
   },
   "outputs": [
    {
     "name": "stdout",
     "output_type": "stream",
     "text": [
      "-----Trimmed mean-----\n",
      "How many values do you want to introduce? 10\n",
      "Introduce the X1: 2\n",
      "Introduce the X2: 89\n",
      "Introduce the X3: 4\n",
      "Introduce the X4: 6\n",
      "Introduce the X5: 3\n",
      "Introduce the X6: 7\n",
      "Introduce the X7: 8\n",
      "Introduce the X8: 9\n",
      "Introduce the X9: 20\n",
      "Introduce the X10: 19\n",
      "The order is:  [2, 3, 4, 6, 7, 8, 9, 19, 20, 89]\n",
      "The porcentage is: 20\n",
      "Trimmed number is equal to:  [4, 6, 7, 8, 9, 19]\n",
      "Trimmed mean is equal to:  8.833333333333334\n"
     ]
    }
   ],
   "source": [
    "print(\"-----Trimmed mean-----\")\n",
    "val= int(input(\"How many values do you want to introduce? \"))\n",
    "number_s = []\n",
    "total=0\n",
    "    \n",
    "for i in range(0,val):\n",
    "    x=int(input(f\"Introduce the X{i+1}: \"))\n",
    "    number_s.append(x)\n",
    "\n",
    "number_s=sorted(number_s)\n",
    "print(\"The order is: \", number_s)\n",
    "p=int(input(\"The porcentage is: \"))\n",
    "vf=(p/100)*val\n",
    "\n",
    "ut=number_s[int(vf):-int(vf)]\n",
    "\n",
    "print(\"Trimmed number is equal to: \", ut )\n",
    "print(\"Trimmed mean is equal to: \", sum(ut)/len(ut))\n"
   ]
  },
  {
   "cell_type": "markdown",
   "metadata": {},
   "source": [
    " "
   ]
  },
  {
   "cell_type": "markdown",
   "metadata": {},
   "source": []
  }
 ],
 "metadata": {
  "kernelspec": {
   "display_name": "Python 3",
   "language": "python",
   "name": "python3"
  },
  "language_info": {
   "codemirror_mode": {
    "name": "ipython",
    "version": 3
   },
   "file_extension": ".py",
   "mimetype": "text/x-python",
   "name": "python",
   "nbconvert_exporter": "python",
   "pygments_lexer": "ipython3",
   "version": "3.7.4"
  }
 },
 "nbformat": 4,
 "nbformat_minor": 2
}
