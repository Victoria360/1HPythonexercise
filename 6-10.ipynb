{
 "cells": [
  {
   "cell_type": "markdown",
   "metadata": {},
   "source": [
    "# Problem 6"
   ]
  },
  {
   "cell_type": "markdown",
   "metadata": {},
   "source": [
    "## Strings and text"
   ]
  },
  {
   "cell_type": "code",
   "execution_count": 9,
   "metadata": {},
   "outputs": [
    {
     "name": "stdout",
     "output_type": "stream",
     "text": [
      "Example of people.\n",
      "Whatever you do, good or bad , people will always have something negative to say about you and your life\n",
      "So do what you want\n",
      "I said: Whatever you do, good or bad , people will always have something negative to say about you and your life\n",
      "Also i said So do what you want\n"
     ]
    }
   ],
   "source": [
    "good = \"people\"\n",
    "x = f\"Example of {good}.\"\n",
    "\n",
    "r_t = \"good or bad\"\n",
    "will_t = \"will always\"\n",
    "to = \"to say about you\"\n",
    "y = f\"Whatever you do, {r_t} , people {will_t} have something negative {to} and your life\"\n",
    "w = f\"So do what you want\"\n",
    "\n",
    "print(x)\n",
    "print(y)\n",
    "print(w)\n",
    "\n",
    "print(f\"I said: {y}\")\n",
    "print(f\"Also i said {w}\")\n"
   ]
  },
  {
   "cell_type": "markdown",
   "metadata": {},
   "source": [
    "We can check that the function of this activity is to insert words in a pharagraph through the equalization of words. Consist in put a variable that can be a letter or a word to be insert in the pharagraph that is going to be printed."
   ]
  },
  {
   "cell_type": "markdown",
   "metadata": {},
   "source": [
    "# Problem 7"
   ]
  },
  {
   "cell_type": "markdown",
   "metadata": {},
   "source": [
    "## More printing"
   ]
  },
  {
   "cell_type": "code",
   "execution_count": 25,
   "metadata": {},
   "outputs": [
    {
     "name": "stdout",
     "output_type": "stream",
     "text": [
      "It always seems impossible\n",
      "Until it´s done\n",
      "Nelson Mandela\n"
     ]
    }
   ],
   "source": [
    "print(\"It always seems impossible\")\n",
    "print(\"Until it´s done\")\n",
    "\n",
    "end1=\"N\"\n",
    "end2=\"e\"\n",
    "end3=\"l\"\n",
    "end4=\"s\"\n",
    "end5=\"o\"\n",
    "end6=\"n\"\n",
    "e7=\"M\"\n",
    "e8=\"a\"\n",
    "e9=\"n\"\n",
    "e10=\"d\"\n",
    "e11=\"e\"\n",
    "e12=\"l\"\n",
    "e13=\"a\"\n",
    "e14=\" \"\n",
    "\n",
    "x=(end1+end2+end3+end4+end5+end6+e14)\n",
    "y=(e7+e8+e9+e10+e11+e12+e13)\n",
    "print(x+y)\n"
   ]
  },
  {
   "cell_type": "markdown",
   "metadata": {},
   "source": [
    "Like in the 6th activity we can add the terms that are in a variable to make words like in mathematics to have a final result."
   ]
  },
  {
   "cell_type": "markdown",
   "metadata": {},
   "source": [
    "# Problem 8"
   ]
  },
  {
   "cell_type": "markdown",
   "metadata": {},
   "source": [
    "## Printing, Printing"
   ]
  },
  {
   "cell_type": "code",
   "execution_count": 28,
   "metadata": {},
   "outputs": [
    {
     "name": "stdout",
     "output_type": "stream",
     "text": [
      "7  8  9  10\n",
      "I  Can  Do  It\n",
      "{}  {}  {}  {}  {}  {}  {}  {}  {}  {}  {}  {}  {}  {}  {}  {}\n",
      "I really like this  It's incredible  And i can do it  So I'm happy\n"
     ]
    }
   ],
   "source": [
    "formatter = \"{}  {}  {}  {}\"\n",
    "\n",
    "print(formatter.format( 7, 8, 9, 10))\n",
    "print(formatter.format(\"I\", \"Can\", \"Do\", \"It\"))\n",
    "print(formatter.format(formatter, formatter, formatter, formatter))\n",
    "print(formatter.format(\n",
    "\"I really like this\",\n",
    "\"It's incredible\",\n",
    "\"And i can do it\",\n",
    "\"So I'm happy\"\n",
    "))"
   ]
  },
  {
   "cell_type": "markdown",
   "metadata": {},
   "source": [
    "We can make a code that change with the information to have other values and to create different results."
   ]
  },
  {
   "cell_type": "markdown",
   "metadata": {},
   "source": [
    "# Problem 9"
   ]
  },
  {
   "cell_type": "markdown",
   "metadata": {},
   "source": [
    "## printing, printing, printing"
   ]
  },
  {
   "cell_type": "code",
   "execution_count": 29,
   "metadata": {},
   "outputs": [
    {
     "name": "stdout",
     "output_type": "stream",
     "text": [
      "Here are the daughters:  April May June Brouke\n",
      "Here are the sons:  Artur Max Javi\n",
      "\n",
      "There are the kids of one family.\n",
      "There have a pet.\n",
      "There are happy\n",
      "\n"
     ]
    }
   ],
   "source": [
    "daughters= \"April May June Brouke\"\n",
    "sons= \"Artur Max Javi\"\n",
    "\n",
    "print(\"Here are the daughters: \", daughters)\n",
    "print(\"Here are the sons: \", sons)\n",
    "\n",
    "print(\"\"\"\n",
    "There are the kids of one family.\n",
    "There have a pet.\n",
    "There are happy\n",
    "\"\"\")"
   ]
  },
  {
   "cell_type": "markdown",
   "metadata": {},
   "source": [
    "We can create a type of list whit this particular case of printing, we can make a lot of different kind of list."
   ]
  },
  {
   "cell_type": "markdown",
   "metadata": {},
   "source": [
    "# Problem 10"
   ]
  },
  {
   "cell_type": "markdown",
   "metadata": {},
   "source": [
    "## What was that?"
   ]
  },
  {
   "cell_type": "code",
   "execution_count": 2,
   "metadata": {},
   "outputs": [
    {
     "name": "stdout",
     "output_type": "stream",
     "text": [
      "\tI'm tabbed in.\n",
      "I'm a friend\n",
      "not an animal.\n",
      "I'm \\ a \\ dog.\n",
      "\n",
      "I'll do a list:\n",
      "\t*Dog food\n",
      "\t*Bones\n",
      "\t*Toys\n",
      "\t* Dog shampoo\n",
      "\n"
     ]
    }
   ],
   "source": [
    "little_dog= \"\\tI'm tabbed in.\"\n",
    "doggie= \"I'm a friend\\nnot an animal.\"\n",
    "dog= \"I'm \\\\ a \\\\ dog.\"\n",
    "\n",
    "fat_dog= \"\"\"\n",
    "I'll do a list:\n",
    "\\t*Dog food\n",
    "\\t*Bones\n",
    "\\t*Toys\\n\\t* Dog shampoo\n",
    "\"\"\"\n",
    "\n",
    "print(little_dog)\n",
    "print(doggie)\n",
    "print(dog)\n",
    "print(fat_dog)"
   ]
  },
  {
   "cell_type": "markdown",
   "metadata": {},
   "source": [
    "Whit this final problem we can do a funny type of text that hace a interesting style."
   ]
  }
 ],
 "metadata": {
  "kernelspec": {
   "display_name": "Python 3",
   "language": "python",
   "name": "python3"
  },
  "language_info": {
   "codemirror_mode": {
    "name": "ipython",
    "version": 3
   },
   "file_extension": ".py",
   "mimetype": "text/x-python",
   "name": "python",
   "nbconvert_exporter": "python",
   "pygments_lexer": "ipython3",
   "version": "3.7.4"
  }
 },
 "nbformat": 4,
 "nbformat_minor": 2
}
