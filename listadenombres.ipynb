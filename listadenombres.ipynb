{
 "cells": [
  {
   "cell_type": "code",
   "execution_count": 13,
   "metadata": {
    "scrolled": true
   },
   "outputs": [
    {
     "name": "stdout",
     "output_type": "stream",
     "text": [
      "How many names do you want to introduce: 3\n",
      "Introduce names: bruno\n",
      "Introduce names: lupe\n",
      "Introduce names: tori\n",
      "The names:\n",
      "bruno\n",
      "lupe\n",
      "tori\n",
      "What name do you are gonna use? 3\n",
      "tori"
     ]
    }
   ],
   "source": [
    "value= int(input(\"How many names do you want to introduce: \"))\n",
    "names = []\n",
    "total = 0\n",
    "for i in range (0,value):\n",
    "    x=str(input(\"Introduce names: \"))\n",
    "    names.append(x)\n",
    "    \n",
    "print(\"The names:\")\n",
    "\n",
    "for name in names:\n",
    "    print(name)\n",
    "c=int(input(\"What name do you are gonna use? \"))\n",
    "if c>value or c<0:\n",
    "    print(\"Error, Please \")\n",
    "    \n",
    "else:\n",
    "    for c in name: print(c,end ='')"
   ]
  },
  {
   "cell_type": "code",
   "execution_count": 14,
   "metadata": {},
   "outputs": [
    {
     "name": "stdout",
     "output_type": "stream",
     "text": [
      "How much data do you want to introduce? 7\n",
      "Introduce age: 12\n",
      "This is your sample: \n",
      "Introduce age: 29\n",
      "This is your sample: \n",
      "Introduce age: 54\n",
      "This is your sample: \n",
      "Introduce age: 13\n",
      "This is your sample: \n",
      "Introduce age: 24\n",
      "This is your sample: \n",
      "Introduce age: 35\n",
      "This is your sample: \n",
      "Introduce age: 12\n",
      "This is your sample: \n",
      "12 29 54 13 24 35 12 \n",
      "The sample mean is = 25.571428571428573\n"
     ]
    }
   ],
   "source": [
    "values= int(input(\"How much data do you want to introduce? \"))\n",
    "ages = []\n",
    "total= 0\n",
    "for i in range (0,values):\n",
    "    x= int(input(\"Introduce age: \"))\n",
    "    ages.append(x)\n",
    "    total += x\n",
    "    print(\"This is your sample: \")\n",
    "for age in ages:\n",
    "        print(age, end=' ')\n",
    "sample_mean = total/values\n",
    "print(f\"\\nThe sample mean is = {sample_mean}\")"
   ]
  },
  {
   "cell_type": "code",
   "execution_count": 15,
   "metadata": {},
   "outputs": [
    {
     "name": "stdout",
     "output_type": "stream",
     "text": [
      "a is greater than b\n"
     ]
    }
   ],
   "source": [
    "a = 11\n",
    "b = 10\n",
    "if a<b:\n",
    "    print(\"b is greater than a\")\n",
    "elif a>b:\n",
    "    print(\"a is greater than b\")\n",
    "    \n",
    "else :\n",
    "    print(\"a is equal to b\")"
   ]
  },
  {
   "cell_type": "code",
   "execution_count": 16,
   "metadata": {},
   "outputs": [
    {
     "name": "stdout",
     "output_type": "stream",
     "text": [
      "leyar tori prince "
     ]
    }
   ],
   "source": [
    "names = {\"tori\",\"leyar\", \"prince\"}\n",
    "for name in names:\n",
    "    print(name, end=' ')"
   ]
  },
  {
   "cell_type": "code",
   "execution_count": null,
   "metadata": {},
   "outputs": [],
   "source": []
  }
 ],
 "metadata": {
  "kernelspec": {
   "display_name": "Python 3",
   "language": "python",
   "name": "python3"
  },
  "language_info": {
   "codemirror_mode": {
    "name": "ipython",
    "version": 3
   },
   "file_extension": ".py",
   "mimetype": "text/x-python",
   "name": "python",
   "nbconvert_exporter": "python",
   "pygments_lexer": "ipython3",
   "version": "3.7.4"
  }
 },
 "nbformat": 4,
 "nbformat_minor": 2
}
