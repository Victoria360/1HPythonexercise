{
 "cells": [
  {
   "cell_type": "code",
   "execution_count": 1,
   "metadata": {},
   "outputs": [
    {
     "name": "stdout",
     "output_type": "stream",
     "text": [
      "Whats is your name? tori\n",
      "Hi,tori\n",
      "How old are you? 19\n",
      "You are 19? Really?\n",
      "Do you have brothers?\n",
      "yes\n",
      "Ok, thanks for the information\n"
     ]
    }
   ],
   "source": [
    "print(\"Whats is your name?\",end=' ')\n",
    "name=input()\n",
    "print(f\"Hi,{name}\")\n",
    "age=int(input(\"How old are you? \"))\n",
    "print(f\"You are {age}? Really?\")\n",
    "print(\"Do you have brothers?\")\n",
    "ans=input()\n",
    "print(\"Ok, thanks for the information\")"
   ]
  },
  {
   "cell_type": "markdown",
   "metadata": {},
   "source": [
    "Asigment 2\n",
    "Personal questions about a person that inngress the important data"
   ]
  }
 ],
 "metadata": {
  "kernelspec": {
   "display_name": "Python 3",
   "language": "python",
   "name": "python3"
  },
  "language_info": {
   "codemirror_mode": {
    "name": "ipython",
    "version": 3
   },
   "file_extension": ".py",
   "mimetype": "text/x-python",
   "name": "python",
   "nbconvert_exporter": "python",
   "pygments_lexer": "ipython3",
   "version": "3.7.4"
  }
 },
 "nbformat": 4,
 "nbformat_minor": 2
}
