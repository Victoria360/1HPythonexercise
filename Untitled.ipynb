{
 "cells": [
  {
   "cell_type": "markdown",
   "metadata": {},
   "source": [
    "FIRST PROGRAM"
   ]
  },
  {
   "cell_type": "markdown",
   "metadata": {},
   "source": [
    "To begin we will make a very simple program (exercise 1)"
   ]
  },
  {
   "cell_type": "code",
   "execution_count": 25,
   "metadata": {},
   "outputs": [
    {
     "name": "stdout",
     "output_type": "stream",
     "text": [
      "progamming is very easy\n"
     ]
    }
   ],
   "source": [
    "print(\"progamming is very easy\")"
   ]
  },
  {
   "cell_type": "code",
   "execution_count": 26,
   "metadata": {},
   "outputs": [
    {
     "name": "stdout",
     "output_type": "stream",
     "text": [
      "do this exercise is easy\n"
     ]
    }
   ],
   "source": [
    "print(\"do this exercise is easy\")"
   ]
  },
  {
   "cell_type": "code",
   "execution_count": 27,
   "metadata": {},
   "outputs": [
    {
     "name": "stdout",
     "output_type": "stream",
     "text": [
      "Use jupyter is very easy\n"
     ]
    }
   ],
   "source": [
    "print(\"Use jupyter is very easy\")"
   ]
  },
  {
   "cell_type": "code",
   "execution_count": 28,
   "metadata": {},
   "outputs": [
    {
     "name": "stdout",
     "output_type": "stream",
     "text": [
      " i love use jupyter\n"
     ]
    }
   ],
   "source": [
    "print(\" i love use jupyter\")"
   ]
  },
  {
   "cell_type": "markdown",
   "metadata": {},
   "source": [
    "Own atom text should look like this in all plataforms."
   ]
  },
  {
   "cell_type": "markdown",
   "metadata": {},
   "source": [
    "1.Make own script print another line.\n",
    "2.In one line make own script print.\n",
    "3.Put # (octothrophe) character at the begining of a line.\n",
    "\n",
    "Note:\n",
    "    OCTOTHROPHE=Pound,hash,mesh or any numbers of name."
   ]
  },
  {
   "cell_type": "markdown",
   "metadata": {},
   "source": [
    "COMMENTS AND COMPOUNDS"
   ]
  },
  {
   "cell_type": "markdown",
   "metadata": {},
   "source": [
    "The comments are using to tell us what something does in English, are used to diseable parts of the program.\n",
    "This exercise explain it:"
   ]
  },
  {
   "cell_type": "code",
   "execution_count": null,
   "metadata": {},
   "outputs": [],
   "source": [
    "#YOU ONLY READ THIS TEXT"
   ]
  },
  {
   "cell_type": "code",
   "execution_count": null,
   "metadata": {},
   "outputs": [],
   "source": [
    "#BECAUSE PHYTON IGNORE THIS..."
   ]
  },
  {
   "cell_type": "code",
   "execution_count": 7,
   "metadata": {},
   "outputs": [
    {
     "name": "stdout",
     "output_type": "stream",
     "text": [
      "now The users can see this menssage\n"
     ]
    }
   ],
   "source": [
    "print(\"now The users can see this menssage\")"
   ]
  },
  {
   "cell_type": "code",
   "execution_count": null,
   "metadata": {},
   "outputs": [],
   "source": [
    "#I can show you a llitle trick "
   ]
  },
  {
   "cell_type": "code",
   "execution_count": 8,
   "metadata": {},
   "outputs": [
    {
     "name": "stdout",
     "output_type": "stream",
     "text": [
      "It's work\n"
     ]
    }
   ],
   "source": [
    "print(\"It's work\")#you can mixed the prints with \"#\" "
   ]
  },
  {
   "cell_type": "code",
   "execution_count": null,
   "metadata": {},
   "outputs": [],
   "source": [
    "#Also the user only can see the prints"
   ]
  },
  {
   "cell_type": "markdown",
   "metadata": {},
   "source": [
    "In conclusion the # is used to make notes and comments about the program,but when the progam run you can´t see it.\n",
    "is commune to used to check mistakes."
   ]
  },
  {
   "cell_type": "markdown",
   "metadata": {},
   "source": [
    "NUMBERS AND MATH"
   ]
  },
  {
   "cell_type": "markdown",
   "metadata": {},
   "source": [
    "In progamming language we have some kind of doing numbers and math.Next We  show the names and symbol:\n",
    "    + plus\n",
    "    - minus\n",
    "    / slash\n",
    "    * asterisk\n",
    "    % percent\n",
    "    < less-than\n",
    "    > greather-than\n",
    "    <= less-than-equal\n",
    "    >= greater-than-equal"
   ]
  },
  {
   "cell_type": "markdown",
   "metadata": {},
   "source": [
    "In this program (exercise 3) use this symbols:"
   ]
  },
  {
   "cell_type": "code",
   "execution_count": 11,
   "metadata": {},
   "outputs": [
    {
     "name": "stdout",
     "output_type": "stream",
     "text": [
      "I wat to count all my books:\n",
      "romantic novels 19.0\n",
      "Thriller novels 45.0\n",
      "I will count all my pdf\n",
      "8.75\n",
      " Is it true that 7+8>5+2\n",
      "True\n",
      " what is 15+3? 18\n",
      "what is 15-3? 12\n",
      "Is it the greater? True\n",
      "Is it greather or equal? True\n",
      "Is it less or equal? False\n"
     ]
    }
   ],
   "source": [
    "print(\"I wat to count all my books:\")\n",
    "print(\"romantic novels\", 10+45/5)\n",
    "print(\"Thriller novels\", 65-10*4/2)\n",
    "print(\"I will count all my pdf\")\n",
    "print(9+6-3+4%12-5/4-6)\n",
    "\n",
    "print(\" Is it true that 7+8>5+2\")\n",
    "print(7+8>5+2)\n",
    "print(\" what is 15+3?\", 15+3)\n",
    "print(\"what is 15-3?\",15-3)\n",
    "\n",
    "print(\"Is it the greater?\",5>-2)\n",
    "print(\"Is it greather or equal?\", 5>=4)\n",
    "print(\"Is it less or equal?\", 4<=-5)\n"
   ]
  },
  {
   "cell_type": "markdown",
   "metadata": {},
   "source": [
    "VARIABLES AND NAMES"
   ]
  },
  {
   "cell_type": "markdown",
   "metadata": {},
   "source": [
    "Variable in programming is nothing more than name for something, using words or numbers to express it. We use the variables to read code.\n",
    "\n",
    "1. Write a comment above each line explaining to yourself what it does in english\n",
    "2.read your.py file backward\n",
    "3. Read .py file outloud, saying even the characters."
   ]
  },
  {
   "cell_type": "code",
   "execution_count": 18,
   "metadata": {},
   "outputs": [
    {
     "name": "stdout",
     "output_type": "stream",
     "text": [
      "there are 3 Restaurants available\n",
      "there are only 20 types_of_food available\n",
      "there will be 30 waiters available\n",
      "We have 3.3333333333333335 people today\n",
      "We need to put more 10 in the restaurant\n"
     ]
    }
   ],
   "source": [
    "Restaurants=3\n",
    "types_of_food=20\n",
    "waiters=30\n",
    "chairs=100\n",
    "tables=waiters\n",
    "lamps=waiters-types_of_food\n",
    "customer=chairs/waiters\n",
    "\n",
    "\n",
    "print(\"there are\",Restaurants,\"Restaurants available\")\n",
    "print(\"there are only\",types_of_food,\"types_of_food available\")\n",
    "print(\"there will be\",waiters,\"waiters available\")\n",
    "print(\"We have\",customer,\"people today\")\n",
    "print(\"We need to put more\",lamps,\"in the restaurant\")\n",
    "\n"
   ]
  },
  {
   "cell_type": "markdown",
   "metadata": {},
   "source": [
    "MORE VARIABLES AND PRITING"
   ]
  },
  {
   "cell_type": "markdown",
   "metadata": {},
   "source": [
    "In this we embed variables inside a string by using a especial {} sequence and then put the variable   you want inside the{}.\n",
    "To explain it, We do the programm 5\n"
   ]
  },
  {
   "cell_type": "code",
   "execution_count": 24,
   "metadata": {},
   "outputs": [
    {
     "name": "stdout",
     "output_type": "stream",
     "text": [
      "show my nameLupita Alviso\n",
      "Show my age19\n",
      "show my weight160\n",
      "If add 160,19,I get 179\n"
     ]
    }
   ],
   "source": [
    "my_name=\"Lupita Alviso\"\n",
    "my_age=19 #not a lie\n",
    "my_weight=160#lb\n",
    "my_hair=\"red\"\n",
    "\n",
    "print(f\"show my name{my_name}\")\n",
    "print(f\"Show my age{my_age}\")\n",
    "print(f\"show my weight{my_weight}\")\n",
    "total=my_age+my_weight\n",
    "print(f\"If add {my_weight},{my_age},I get {total}\")\n"
   ]
  },
  {
   "cell_type": "markdown",
   "metadata": {},
   "source": [
    "note:\n",
    "We use the comments to make little notes about the data"
   ]
  }
 ],
 "metadata": {
  "kernelspec": {
   "display_name": "Python 3",
   "language": "python",
   "name": "python3"
  },
  "language_info": {
   "codemirror_mode": {
    "name": "ipython",
    "version": 3
   },
   "file_extension": ".py",
   "mimetype": "text/x-python",
   "name": "python",
   "nbconvert_exporter": "python",
   "pygments_lexer": "ipython3",
   "version": "3.7.4"
  }
 },
 "nbformat": 4,
 "nbformat_minor": 2
}
