{
 "cells": [
  {
   "cell_type": "markdown",
   "metadata": {},
   "source": [
    "Exercise 19"
   ]
  },
  {
   "cell_type": "code",
   "execution_count": 1,
   "metadata": {},
   "outputs": [
    {
     "name": "stdout",
     "output_type": "stream",
     "text": [
      "We can just give the function numbers directly:\n",
      "You have 20 cheeses!\n",
      "You have 30 boxes of crackers!\n",
      "Man that's enough for a party!\n",
      "Get a blanket.\n",
      "\n",
      "Our, we can use variables from our script:\n",
      "You have 10 cheeses!\n",
      "You have 50 boxes of crackers!\n",
      "Man that's enough for a party!\n",
      "Get a blanket.\n",
      "\n",
      "We can even do math inside too:\n",
      "You have 30 cheeses!\n",
      "You have 11 boxes of crackers!\n",
      "Man that's enough for a party!\n",
      "Get a blanket.\n",
      "\n",
      "And we can combine the two, variables and math:\n",
      "You have 110 cheeses!\n",
      "You have 1050 boxes of crackers!\n",
      "Man that's enough for a party!\n",
      "Get a blanket.\n",
      "\n"
     ]
    }
   ],
   "source": [
    "def cheese_and_crackers(cheese_count, boxes_of_crackers):\n",
    "    print(f\"You have {cheese_count} cheeses!\")\n",
    "    print(f\"You have {boxes_of_crackers} boxes of crackers!\")\n",
    "    print(\"Man that's enough for a party!\")\n",
    "    print(\"Get a blanket.\\n\")\n",
    "    \n",
    "print(\"We can just give the function numbers directly:\")\n",
    "cheese_and_crackers (20, 30)\n",
    "\n",
    "print(\"Our, we can use variables from our script:\")\n",
    "amount_of_cheese = 10\n",
    "amount_of_crackers = 50\n",
    "\n",
    "cheese_and_crackers(amount_of_cheese, amount_of_crackers)\n",
    "\n",
    "print(\"We can even do math inside too:\")\n",
    "cheese_and_crackers(10+20, 5+6)\n",
    "\n",
    "print(\"And we can combine the two, variables and math:\")\n",
    "cheese_and_crackers(amount_of_cheese + 100, amount_of_crackers + 1000)\n"
   ]
  },
  {
   "cell_type": "markdown",
   "metadata": {},
   "source": [
    "Exercise 20"
   ]
  },
  {
   "cell_type": "code",
   "execution_count": 2,
   "metadata": {},
   "outputs": [
    {
     "ename": "ImportError",
     "evalue": "cannot import name 'arvg' from 'sys' (unknown location)",
     "output_type": "error",
     "traceback": [
      "\u001b[1;31m---------------------------------------------------------------------------\u001b[0m",
      "\u001b[1;31mImportError\u001b[0m                               Traceback (most recent call last)",
      "\u001b[1;32m<ipython-input-2-d2b8c1aa8f08>\u001b[0m in \u001b[0;36m<module>\u001b[1;34m\u001b[0m\n\u001b[1;32m----> 1\u001b[1;33m \u001b[1;32mfrom\u001b[0m \u001b[0msys\u001b[0m \u001b[1;32mimport\u001b[0m \u001b[0marvg\u001b[0m\u001b[1;33m\u001b[0m\u001b[1;33m\u001b[0m\u001b[0m\n\u001b[0m\u001b[0;32m      2\u001b[0m \u001b[1;33m\u001b[0m\u001b[0m\n\u001b[0;32m      3\u001b[0m \u001b[0mscript\u001b[0m\u001b[1;33m,\u001b[0m \u001b[0minput_file\u001b[0m \u001b[1;33m=\u001b[0m \u001b[0marvg\u001b[0m\u001b[1;33m\u001b[0m\u001b[1;33m\u001b[0m\u001b[0m\n\u001b[0;32m      4\u001b[0m \u001b[1;33m\u001b[0m\u001b[0m\n\u001b[0;32m      5\u001b[0m \u001b[1;32mdef\u001b[0m \u001b[0mprint_all\u001b[0m \u001b[1;33m(\u001b[0m\u001b[0mf\u001b[0m\u001b[1;33m)\u001b[0m\u001b[1;33m:\u001b[0m\u001b[1;33m\u001b[0m\u001b[1;33m\u001b[0m\u001b[0m\n",
      "\u001b[1;31mImportError\u001b[0m: cannot import name 'arvg' from 'sys' (unknown location)"
     ]
    }
   ],
   "source": [
    "from sys import arvg\n",
    "\n",
    "script, input_file = arvg\n",
    "\n",
    "def print_all (f):\n",
    "    print(f.read())\n",
    "\n",
    "def rewind(f):\n",
    "    f.seek(0)\n",
    "    \n",
    "def print_a_line(line_count, f):\n",
    "    print(line_count, f.readline())\n",
    "\n",
    "current_file = open (input_file)\n",
    "\n",
    "print(\"First let's print the whole file:\\n\")\n",
    "\n",
    "print_all(current_file)\n",
    "\n",
    "print(\"Now let's rewind, kind of like a tape:\")\n",
    "\n",
    "rewind(current_file)\n",
    "\n",
    "print(\"Let's print tree lines:\")\n",
    "\n",
    "current_line = 1\n",
    "print_a_line(current_line, current_file)\n",
    "\n",
    "current_line = current_line + 1\n",
    "print_a_line(current_line, current_file)\n",
    "\n",
    "current_line = current_line + 1\n",
    "print_a_line(current_line, current_file)\n"
   ]
  },
  {
   "cell_type": "markdown",
   "metadata": {},
   "source": [
    "Exercise 21"
   ]
  },
  {
   "cell_type": "code",
   "execution_count": 3,
   "metadata": {},
   "outputs": [
    {
     "name": "stdout",
     "output_type": "stream",
     "text": [
      "Let's do some math with just functions!\n",
      "Adding 30 + 5\n",
      "Subtracting 78 - 4\n",
      "Multiplying 90 * 2\n",
      "Dividing 100 / 2\n",
      "Age: 35, Height: 74, Weight: 180, Iq: 50.0\n",
      "Here is a puzzle.\n",
      "Dividing 50.0 / 2\n",
      "Multiplying 180 * 25.0\n",
      "Subtracting 74 - 4500.0\n",
      "Adding 35 + -4426.0\n",
      "That becomes:  -4391.0 Can you do it by hand?\n"
     ]
    }
   ],
   "source": [
    "def add(a, b):\n",
    "    print(f\"Adding {a} + {b}\")\n",
    "    return a + b\n",
    "\n",
    "def substract(a, b):\n",
    "    print(f\"Subtracting {a} - {b}\")\n",
    "    return a - b\n",
    "\n",
    "def multiply(a, b):\n",
    "    print(f\"Multiplying {a} * {b}\")\n",
    "    return a * b\n",
    "    \n",
    "def divide(a, b):\n",
    "    print(f\"Dividing {a} / {b}\")\n",
    "    return a / b\n",
    "\n",
    "print(\"Let's do some math with just functions!\")\n",
    "\n",
    "age= add (30, 5)\n",
    "height = substract (78, 4)\n",
    "weight = multiply (90, 2)\n",
    "iq = divide (100, 2)\n",
    "\n",
    "print(f\"Age: {age}, Height: {height}, Weight: {weight}, Iq: {iq}\")\n",
    "\n",
    "print(\"Here is a puzzle.\")\n",
    "\n",
    "what = add(age, substract( height, multiply(weight, divide(iq, 2))))\n",
    "\n",
    "print(\"That becomes: \", what, \"Can you do it by hand?\")"
   ]
  },
  {
   "cell_type": "markdown",
   "metadata": {},
   "source": []
  },
  {
   "cell_type": "markdown",
   "metadata": {},
   "source": [
    "Exercise 40"
   ]
  },
  {
   "cell_type": "code",
   "execution_count": 4,
   "metadata": {},
   "outputs": [
    {
     "ename": "TypeError",
     "evalue": "Song() takes no arguments",
     "output_type": "error",
     "traceback": [
      "\u001b[1;31m---------------------------------------------------------------------------\u001b[0m",
      "\u001b[1;31mTypeError\u001b[0m                                 Traceback (most recent call last)",
      "\u001b[1;32m<ipython-input-4-3a968cd7fdcb>\u001b[0m in \u001b[0;36m<module>\u001b[1;34m\u001b[0m\n\u001b[0;32m     10\u001b[0m happy_bday = Song ([\"Happy birthday to you\", \n\u001b[0;32m     11\u001b[0m                     \u001b[1;34m\"I don't want to get sued\"\u001b[0m\u001b[1;33m,\u001b[0m\u001b[1;33m\u001b[0m\u001b[1;33m\u001b[0m\u001b[0m\n\u001b[1;32m---> 12\u001b[1;33m                     \"So I'll stop right there\"])\n\u001b[0m\u001b[0;32m     13\u001b[0m \u001b[1;33m\u001b[0m\u001b[0m\n\u001b[0;32m     14\u001b[0m bulls_on_parade = Song([\"They really around the family\"\n",
      "\u001b[1;31mTypeError\u001b[0m: Song() takes no arguments"
     ]
    }
   ],
   "source": [
    "class Song(object):\n",
    "    \n",
    "    def _init_(self, lyrics):\n",
    "        self.lyrics = lyrics\n",
    "        \n",
    "    def sing_me_a_song(self):\n",
    "        for line in self.lyrics:\n",
    "            print(line)\n",
    "            \n",
    "happy_bday = Song ([\"Happy birthday to you\", \n",
    "                    \"I don't want to get sued\", \n",
    "                    \"So I'll stop right there\"])\n",
    "\n",
    "bulls_on_parade = Song([\"They really around the family\"\n",
    "                          \"With pockets full of shells\"])\n",
    "\n",
    "happy_bday.sing_me_a_song()\n",
    "\n",
    "bulls_on_a_parade.sing_me_a_song()\n"
   ]
  },
  {
   "cell_type": "markdown",
   "metadata": {},
   "source": []
  },
  {
   "cell_type": "markdown",
   "metadata": {},
   "source": [
    "Exercise 41"
   ]
  },
  {
   "cell_type": "code",
   "execution_count": 5,
   "metadata": {},
   "outputs": [
    {
     "ename": "SyntaxError",
     "evalue": "invalid syntax (<ipython-input-5-49fb75e74520>, line 19)",
     "output_type": "error",
     "traceback": [
      "\u001b[1;36m  File \u001b[1;32m\"<ipython-input-5-49fb75e74520>\"\u001b[1;36m, line \u001b[1;32m19\u001b[0m\n\u001b[1;33m    \"***.*** = '***'\":\u001b[0m\n\u001b[1;37m                     ^\u001b[0m\n\u001b[1;31mSyntaxError\u001b[0m\u001b[1;31m:\u001b[0m invalid syntax\n"
     ]
    }
   ],
   "source": [
    "\n",
    "import random\n",
    "from urllib.request import urlopen\n",
    "import sys \n",
    "\n",
    "Word_URL = \"http://learncodethehardway.org/words.txt\"\n",
    "Words = []\n",
    "\n",
    "Phrases = {\n",
    "    \"class %%%(%%%):\":\n",
    "    \"Make a class named %%% that is-a %%%.\",\n",
    "    \"class %%%(object):\\n\\tdef_init_(self, ***)\":\n",
    "    \"class %%% has-a _init_ that takes shelf and *** params.\",\n",
    "    \"class %%%(bject):\\n\\tdef ***(self, @@@)\":\n",
    "    \"class %%% has-a function *** that takes self and @@@ params.\",\n",
    "    \"*** = %%% ()\":\n",
    "    \"Set *** to an instance of class %%%.\",\n",
    "    \"***.*** (@@@)\":\n",
    "    \"From *** get the *** function, call it with params self, @@@\"\n",
    "    \"***.*** = '***'\":\n",
    "    \"From *** get the *** attribute and set it to '***'.\"\n",
    "}\n",
    "\n",
    "if len(sys.arvg) == 2 and sys.arvg[1] == \"english\":\n",
    "    PHASE_FIRST = True\n",
    "else:\n",
    "    PHASE_FIRST = False\n",
    "\n",
    "for word in urlopen(WORD_URL).readlines():\n",
    "    WORDS.append(str(word.scrip(), encoding=\"utf-8\"))\n",
    "    \n",
    "def convert(snippet, phrase):\n",
    "    class_names = [w.capitalize() for w in\n",
    "                  random.samples(WORDS, snipped.count(\"%%%\"))]\n",
    "    other_names = random.sample(WORDS, snipped.count(\"***\"))\n",
    "    results = []\n",
    "    param_names = []\n",
    "    \n",
    "for i in range(0, snipped.count(\"@@@\")):\n",
    "    param_count = random.randint(1,3)\n",
    "    param_names.append(', '.join(\n",
    "         random.samples(WORDS, param_count)))\n",
    "    \n",
    "for sentence in snippet, phrase:\n",
    "    result = sentence [:]\n",
    "    \n",
    "for word in class_names:\n",
    "    result = result.replace(\"%%%\", word, 1)\n",
    "    \n",
    "for word in other_names:\n",
    "    result = result.replace(\"***\", word, 1)\n",
    "    \n",
    "for word in param_names:\n",
    "    result = result.replace(\"@@@\", word, 1)\n",
    "    \n",
    "    result.append(result)\n",
    "    \n",
    "return results\n",
    "\n",
    "try:\n",
    "    while True:\n",
    "        snippets = list(PHRASES.key())\n",
    "        random.shuffle(snippets)\n",
    "        \n",
    "        for snippet in snippets:\n",
    "            phrase = PHRASES [snippet]\n",
    "            question, answer = convert(snippet, phrase)\n",
    "            if PHRASE_FIRST:\n",
    "                question, answer = answer, question\n",
    "            \n",
    "            print(question)\n",
    "            \n",
    "            input(\">\")\n",
    "            print(f\"ANSWER: {answer}\\n\\n\")\n",
    "            \n",
    "except EOFError:\n",
    "    print(\"\\nBye\")v"
   ]
  },
  {
   "cell_type": "markdown",
   "metadata": {},
   "source": [
    "Exercise 42"
   ]
  },
  {
   "cell_type": "code",
   "execution_count": 8,
   "metadata": {},
   "outputs": [
    {
     "ename": "TypeError",
     "evalue": "Dog() takes no arguments",
     "output_type": "error",
     "traceback": [
      "\u001b[1;31m---------------------------------------------------------------------------\u001b[0m",
      "\u001b[1;31mTypeError\u001b[0m                                 Traceback (most recent call last)",
      "\u001b[1;32m<ipython-input-8-857da95e71bb>\u001b[0m in \u001b[0;36m<module>\u001b[1;34m\u001b[0m\n\u001b[0;32m     33\u001b[0m     \u001b[1;32mpass\u001b[0m\u001b[1;33m\u001b[0m\u001b[1;33m\u001b[0m\u001b[0m\n\u001b[0;32m     34\u001b[0m \u001b[1;33m\u001b[0m\u001b[0m\n\u001b[1;32m---> 35\u001b[1;33m \u001b[0mrover\u001b[0m \u001b[1;33m=\u001b[0m \u001b[0mDog\u001b[0m\u001b[1;33m(\u001b[0m\u001b[1;34m\"Rover\"\u001b[0m\u001b[1;33m)\u001b[0m\u001b[1;33m\u001b[0m\u001b[1;33m\u001b[0m\u001b[0m\n\u001b[0m\u001b[0;32m     36\u001b[0m \u001b[1;33m\u001b[0m\u001b[0m\n\u001b[0;32m     37\u001b[0m \u001b[0msatan\u001b[0m \u001b[1;33m=\u001b[0m \u001b[0mCat\u001b[0m\u001b[1;33m(\u001b[0m\u001b[1;34m\"Satan\"\u001b[0m\u001b[1;33m)\u001b[0m\u001b[1;33m\u001b[0m\u001b[1;33m\u001b[0m\u001b[0m\n",
      "\u001b[1;31mTypeError\u001b[0m: Dog() takes no arguments"
     ]
    }
   ],
   "source": [
    "class Animal(object):\n",
    "    pass\n",
    "\n",
    "class Dog(Animal):\n",
    "    \n",
    "    def _init_(self, name):\n",
    "        \n",
    "        self.name = name\n",
    "\n",
    "class Person(object):\n",
    "    \n",
    "    def _init_(self, name):\n",
    "        \n",
    "        self.name = name\n",
    "        \n",
    "        self.pet = None\n",
    "\n",
    "class Employee(Person):\n",
    "    \n",
    "    def _init_(self, name, salary):\n",
    "        \n",
    "        super(Employee, self)._init_(name)\n",
    "        \n",
    "        self.salary\n",
    "        \n",
    "class Fish(object):\n",
    "    pass\n",
    "\n",
    "class Salmon(Fish):\n",
    "    pass\n",
    "\n",
    "class Halibut(Fish):\n",
    "    pass\n",
    "\n",
    "rover = Dog(\"Rover\")\n",
    "\n",
    "satan = Cat(\"Satan\")\n",
    "\n",
    "mary = Person(\"Mary\")\n",
    "\n",
    "mary.pet = satan\n",
    "\n",
    "frank = Employee(\"Frank\", 120000)\n",
    "\n",
    "frank.pet = rover\n",
    "\n",
    "flipper = Fish()\n",
    "\n",
    "crouse = Salmon()\n",
    "\n",
    "harry = Halibut()\n"
   ]
  },
  {
   "cell_type": "markdown",
   "metadata": {},
   "source": [
    "Exercise 43"
   ]
  },
  {
   "cell_type": "code",
   "execution_count": 9,
   "metadata": {},
   "outputs": [
    {
     "ename": "TypeError",
     "evalue": "Map() takes no arguments",
     "output_type": "error",
     "traceback": [
      "\u001b[1;31m---------------------------------------------------------------------------\u001b[0m",
      "\u001b[1;31mTypeError\u001b[0m                                 Traceback (most recent call last)",
      "\u001b[1;32m<ipython-input-9-0c3072ba713d>\u001b[0m in \u001b[0;36m<module>\u001b[1;34m\u001b[0m\n\u001b[0;32m     48\u001b[0m         \u001b[1;32mpass\u001b[0m\u001b[1;33m\u001b[0m\u001b[1;33m\u001b[0m\u001b[0m\n\u001b[0;32m     49\u001b[0m \u001b[1;33m\u001b[0m\u001b[0m\n\u001b[1;32m---> 50\u001b[1;33m \u001b[0ma_map\u001b[0m \u001b[1;33m=\u001b[0m \u001b[0mMap\u001b[0m\u001b[1;33m(\u001b[0m\u001b[1;34m'central_corridor'\u001b[0m\u001b[1;33m)\u001b[0m\u001b[1;33m\u001b[0m\u001b[1;33m\u001b[0m\u001b[0m\n\u001b[0m\u001b[0;32m     51\u001b[0m \u001b[0ma_game\u001b[0m \u001b[1;33m=\u001b[0m \u001b[0mEngine\u001b[0m\u001b[1;33m(\u001b[0m\u001b[0ma_map\u001b[0m\u001b[1;33m)\u001b[0m\u001b[1;33m\u001b[0m\u001b[1;33m\u001b[0m\u001b[0m\n\u001b[0;32m     52\u001b[0m \u001b[0ma_game\u001b[0m\u001b[1;33m.\u001b[0m\u001b[0mplay\u001b[0m\u001b[1;33m(\u001b[0m\u001b[1;33m)\u001b[0m\u001b[1;33m\u001b[0m\u001b[1;33m\u001b[0m\u001b[0m\n",
      "\u001b[1;31mTypeError\u001b[0m: Map() takes no arguments"
     ]
    }
   ],
   "source": [
    "class Scene(object):\n",
    "    \n",
    "    def enter(self):\n",
    "        pass\n",
    "    \n",
    "class Engine(object):\n",
    "    \n",
    "    def _init_(self, scene_map):\n",
    "        pass\n",
    "\n",
    "    def play(self):\n",
    "        pass\n",
    "    \n",
    "class Death(Scene):\n",
    "    \n",
    "    def enter(self):\n",
    "        pass\n",
    "    \n",
    "class CentralCorridor(Scene):\n",
    "    \n",
    "    def enter(self):\n",
    "        pass\n",
    "\n",
    "class LaserWeaponArmory(Scene):\n",
    "    \n",
    "    def enter(self):\n",
    "        pass\n",
    "    \n",
    "class TheBridge(Scene):\n",
    "    \n",
    "    def enter(self):\n",
    "        pass\n",
    "    \n",
    "class EscapePod(Scene):\n",
    "    \n",
    "    def enter(self):\n",
    "        pass\n",
    "    \n",
    "class Map(object):\n",
    "    \n",
    "    def _init_(self, start_scene):\n",
    "        pass\n",
    "    \n",
    "    def next_scene(self, scene_name):\n",
    "        pass\n",
    "    \n",
    "    def opening_scene(self):\n",
    "        pass\n",
    "    \n",
    "a_map = Map('central_corridor')\n",
    "a_game = Engine(a_map)\n",
    "a_game.play()\n",
    "    "
   ]
  },
  {
   "cell_type": "code",
   "execution_count": null,
   "metadata": {},
   "outputs": [],
   "source": []
  }
 ],
 "metadata": {
  "kernelspec": {
   "display_name": "Python 3",
   "language": "python",
   "name": "python3"
  },
  "language_info": {
   "codemirror_mode": {
    "name": "ipython",
    "version": 3
   },
   "file_extension": ".py",
   "mimetype": "text/x-python",
   "name": "python",
   "nbconvert_exporter": "python",
   "pygments_lexer": "ipython3",
   "version": "3.7.4"
  }
 },
 "nbformat": 4,
 "nbformat_minor": 2
}
