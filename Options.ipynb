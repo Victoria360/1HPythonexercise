{
 "cells": [
  {
   "cell_type": "code",
   "execution_count": 9,
   "metadata": {},
   "outputs": [
    {
     "name": "stdout",
     "output_type": "stream",
     "text": [
      "-----------MENU-----------\n",
      "1.-Sample mean\n",
      "2.-Moda\n",
      "Simple desviation\n",
      "Please select the option: 1\n",
      "-----------Sample Mean-----------\n",
      "How many values do you want to introduce? 5\n",
      "Introduce the X1: 87\n",
      "Introduce the X2: 4\n",
      "Introduce the X3: 23\n",
      "Introduce the X4: 6\n",
      "Introduce the X5: 23\n",
      "\n",
      "The sample mean is = 28.6\n"
     ]
    }
   ],
   "source": [
    "print(\"-----------MENU-----------\")\n",
    "print(\"1.-Sample mean\")\n",
    "print(\"2.-Moda\")\n",
    "print(\"Simple desviation\")\n",
    "numero =int(input(\"Please select the option: \"))\n",
    "if numero == 1:\n",
    "    print(\"-----------Sample Mean-----------\")\n",
    "    val= int(input(\"How many values do you want to introduce? \"))\n",
    "    numbers = []\n",
    "    total=0\n",
    "    \n",
    "    for i in range (0,val):\n",
    "        x=int(input(f\"Introduce the X{i+1}: \"))\n",
    "        numbers.append(x)\n",
    "        total+= x\n",
    "        sample_mean = total/val\n",
    "    \n",
    "    print(f\"\\nThe sample mean is = {sample_mean}\")\n",
    "\n",
    "elif numero==2:\n",
    "    print(\"-----------Moda-----------\")\n",
    "    valu=int(input(\"Introduce the number of data that you will use: \"))\n",
    "    data=[]\n",
    "    total=0\n",
    "    for i in range(0,valu):\n",
    "        x=int(input(f\"Introduce the X{i+1}: \"))\n",
    "        data.append(x)\n",
    "        \n",
    "        rep=0\n",
    "    for i in data:\n",
    "        appears=data.count(i)\n",
    "        if appears > rep:\n",
    "            rep= appears\n",
    "    \n",
    "    modas = []\n",
    "    for i in data:\n",
    "        appears = data.count(i)\n",
    "        if appears == rep and i not in modas:\n",
    "            modas.append(i)\n",
    "    \n",
    "    print(\"Moda is: \", modas)\n",
    "    \n",
    "elif numero == 3:\n",
    "    print(\"-----------Standard Desviation-----------\")\n",
    "    val=int(input(\"Introduce the data that you will use: \"))\n",
    "    data= []\n",
    "    total=0\n",
    "\n",
    "    for i in range(0,val):\n",
    "        x=int(input(f\"Introduce X{i+1}: \"))\n",
    "        data.append(x)\n",
    "        total+=x\n",
    "        sample_mean=total/val\n",
    "        div= []\n",
    "        for dato in data:\n",
    "            r=(dato - sample_mean)**2\n",
    "            div.append(r)\n",
    "        \n",
    "        desviation = (sum(div)/(val-1))**0.5\n",
    "        \n",
    "    print(\"The standard desviation is: \", desviation)\n",
    "    \n",
    "else:\n",
    "    print(\"Error, Retype a number\")"
   ]
  },
  {
   "cell_type": "markdown",
   "metadata": {},
   "source": [
    " "
   ]
  }
 ],
 "metadata": {
  "kernelspec": {
   "display_name": "Python 3",
   "language": "python",
   "name": "python3"
  },
  "language_info": {
   "codemirror_mode": {
    "name": "ipython",
    "version": 3
   },
   "file_extension": ".py",
   "mimetype": "text/x-python",
   "name": "python",
   "nbconvert_exporter": "python",
   "pygments_lexer": "ipython3",
   "version": "3.7.4"
  }
 },
 "nbformat": 4,
 "nbformat_minor": 2
}
